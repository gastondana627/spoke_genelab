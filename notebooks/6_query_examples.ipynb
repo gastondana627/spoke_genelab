{
 "cells": [
  {
   "cell_type": "markdown",
   "id": "8ff21896-2da6-44bc-9315-215c6662e218",
   "metadata": {},
   "source": [
    "# 🔍 SPOKE‑GeneLab Neo4j Query Examples\n",
    "\n",
    "This notebook demonstrates how to run and visualize common Cypher queries against your SPOKE‑GeneLab Neo4j database. It uses `py2neo` for database connection, `genelab_utils` for utility functions, and `neo4j_utils` for drawing subgraphs.\n",
    "\n",
    "Author: Peter W. Rose, UC San Diego (pwrose.ucsd@gmail.com)"
   ]
  },
  {
   "cell_type": "code",
   "execution_count": 1,
   "id": "e013a1f1-074b-4f6c-885f-b12c2331a908",
   "metadata": {},
   "outputs": [],
   "source": [
    "import os\n",
    "import matplotlib.pyplot as plt\n",
    "import seaborn as sns\n",
    "from py2neo import Graph\n",
    "import genelab_utils as gl\n",
    "import neo4j_utils"
   ]
  },
  {
   "cell_type": "markdown",
   "id": "c8fa1beb-9ad3-4401-9687-459347bcd1a6",
   "metadata": {},
   "source": [
    "## Setup Environment Variables\n",
    "To update the environment, update the \"../.env\" file."
   ]
  },
  {
   "cell_type": "code",
   "execution_count": 2,
   "id": "af9b013a-f678-4c11-ba38-d38256cde80a",
   "metadata": {},
   "outputs": [
    {
     "name": "stdout",
     "output_type": "stream",
     "text": [
      "Environment setup for KG version: v0.0.3\n"
     ]
    }
   ],
   "source": [
    "# Node and relationship directory paths\n",
    "node_dir, rel_dir = gl.setup_environment()"
   ]
  },
  {
   "cell_type": "markdown",
   "id": "2de6fd74-7537-4189-959c-76045ca51c8f",
   "metadata": {},
   "source": [
    "### Connect to the local Neo4j Graph database"
   ]
  },
  {
   "cell_type": "code",
   "execution_count": 3,
   "id": "6b12f366-7d87-4ae9-98f3-81707e4e0801",
   "metadata": {},
   "outputs": [],
   "source": [
    "database = os.environ.get(\"NEO4J_DATABASE\")\n",
    "username = os.environ.get(\"NEO4J_USERNAME\")\n",
    "password = os.environ.get(\"NEO4J_PASSWORD\")\n",
    "stylesheet = os.environ.get(\"NEO4J_STYLESHEET\")\n",
    "\n",
    "graph = Graph(\"bolt://localhost:7687\", name=database, user=username, password=password)"
   ]
  },
  {
   "cell_type": "markdown",
   "id": "02e832c8-a9c2-4376-98be-79d6486f664e",
   "metadata": {},
   "source": [
    "## Gene Methylation vs Downregulation\n",
    "This query finds examples where a gene is differentially hypermethylated in the promoter region and downregulated for a Ground Control vs. Space Flight comparison."
   ]
  },
  {
   "cell_type": "code",
   "execution_count": 4,
   "id": "9e643f34-8cd5-4aa0-be26-76f6b33a8b64",
   "metadata": {},
   "outputs": [],
   "source": [
    "methylation_threshold = 25 # % differential methylation\n",
    "log2fc_threshold      = -1.5 # log2 fold change\n",
    "\n",
    "query = \"\"\"\n",
    "MATCH p = (m:Mission)-->(s1:Study)-->(a1:Assay)-[m1]->(y:MethylationRegion)\n",
    "           <--(g:MGene)<-[m2]-(a2:Assay)<--(s2:Study)\n",
    "WHERE s1 = s2 // within the same study\n",
    "  AND \"Ground Control\" IN a1.factors_1             // Ground Control\n",
    "  AND \"Space Flight\" IN a1.factors_2               // vs. Space Flight for DNA methylation profiling assay\n",
    "  AND \"Ground Control\" IN a2.factors_1             // Ground Control\n",
    "  AND \"Space Flight\" IN a2.factors_2               // vs. Space Flight for transcription profiling assay\n",
    "  AND a1.factors_1 = a2.factors_1                  // compare only assays where the factors are identical\n",
    "  AND a1.factors_2 = a2.factors_2                  // compare only assays where the factors are identical\n",
    "  AND y.in_promoter = true                         // methylated in the promoter region\n",
    "  AND m1.methylation_diff > $methylation_threshold // hypermethylated in the promoter region\n",
    "  AND m2.log2fc < $log2fc_threshold                // downregulated gene\n",
    "RETURN p\n",
    "\"\"\"\n",
    "\n",
    "subgraph1 = graph.run(query, methylation_threshold=methylation_threshold, log2fc_threshold=log2fc_threshold).to_subgraph()"
   ]
  },
  {
   "cell_type": "code",
   "execution_count": 5,
   "id": "b82f01a3-d337-45c8-af3e-6a06da8005ce",
   "metadata": {},
   "outputs": [
    {
     "data": {
      "application/vnd.jupyter.widget-view+json": {
       "model_id": "9d5728f4d598497781abccfadf56779b",
       "version_major": 2,
       "version_minor": 0
      },
      "text/plain": [
       "CytoscapeWidget(cytoscape_layout={'name': 'dagre', 'padding': 0, 'nodeSpacing': 65, 'nodeDimensionsIncludeLabe…"
      ]
     },
     "execution_count": 5,
     "metadata": {},
     "output_type": "execute_result"
    }
   ],
   "source": [
    "# If the layout isn’t ideal, rerun this cell.\n",
    "# Use the mouse to drag nodes, pan or zoom the canvas, and adjust positions.\n",
    "# Click a node to view its properties.\n",
    "widget1 = neo4j_utils.draw_graph(subgraph1, stylesheet)\n",
    "widget1.layout.height = \"1014px\"\n",
    "# Try different layouts\n",
    "# layout = \"cola\"\n",
    "# layout = \"klay\"\n",
    "# layout = \"concentric\"\n",
    "layout = \"dagre\"\n",
    "widget1.set_layout(name=layout, padding=0, nodeSpacing=65, nodeDimensionsIncludeLabels=True, unconstrIter=15000)\n",
    "widget1"
   ]
  },
  {
   "cell_type": "markdown",
   "id": "ed6a8fb8-815e-477b-bb8a-716537e7fbd4",
   "metadata": {},
   "source": [
    "Open a static image of this graph visualization for [OSD-48](../docs/osd-48_omics.png)"
   ]
  },
  {
   "cell_type": "markdown",
   "id": "2a113d05-4c68-43b9-92a4-0c68c658059d",
   "metadata": {},
   "source": [
    "## Comparision of Gene Methylation vs. Gene Expression\n",
    "Here we compare the change in methylation (methylation_diff in %) in the promoter region with the change the log2 fold change in expression (log2fc) for Ground Control vs. Space Flight samples in mice."
   ]
  },
  {
   "cell_type": "code",
   "execution_count": 6,
   "id": "f257106a-6686-4625-81a5-fd72c7933b82",
   "metadata": {},
   "outputs": [
    {
     "data": {
      "text/html": [
       "<div>\n",
       "<style scoped>\n",
       "    .dataframe tbody tr th:only-of-type {\n",
       "        vertical-align: middle;\n",
       "    }\n",
       "\n",
       "    .dataframe tbody tr th {\n",
       "        vertical-align: top;\n",
       "    }\n",
       "\n",
       "    .dataframe thead th {\n",
       "        text-align: right;\n",
       "    }\n",
       "</style>\n",
       "<table border=\"1\" class=\"dataframe\">\n",
       "  <thead>\n",
       "    <tr style=\"text-align: right;\">\n",
       "      <th></th>\n",
       "      <th>methylation_diff</th>\n",
       "      <th>log2fc</th>\n",
       "      <th>gene</th>\n",
       "      <th>organism</th>\n",
       "      <th>anatomy</th>\n",
       "      <th>factors_11</th>\n",
       "      <th>factors_12</th>\n",
       "      <th>factors_21</th>\n",
       "      <th>factors_22</th>\n",
       "      <th>study</th>\n",
       "    </tr>\n",
       "  </thead>\n",
       "  <tbody>\n",
       "    <tr>\n",
       "      <th>0</th>\n",
       "      <td>41.196193</td>\n",
       "      <td>-1.428872</td>\n",
       "      <td>abhydrolase domain containing 2</td>\n",
       "      <td>Mus musculus</td>\n",
       "      <td>liver</td>\n",
       "      <td>[Ground Control, Carcass]</td>\n",
       "      <td>[Space Flight, Upon euthanasia]</td>\n",
       "      <td>[Ground Control, Carcass]</td>\n",
       "      <td>[Space Flight, Upon euthanasia]</td>\n",
       "      <td>OSD-48</td>\n",
       "    </tr>\n",
       "    <tr>\n",
       "      <th>1</th>\n",
       "      <td>40.042283</td>\n",
       "      <td>-1.247172</td>\n",
       "      <td>brain expressed myelocytomatosis oncogene</td>\n",
       "      <td>Mus musculus</td>\n",
       "      <td>liver</td>\n",
       "      <td>[Ground Control, Carcass]</td>\n",
       "      <td>[Space Flight, Upon euthanasia]</td>\n",
       "      <td>[Ground Control, Carcass]</td>\n",
       "      <td>[Space Flight, Upon euthanasia]</td>\n",
       "      <td>OSD-48</td>\n",
       "    </tr>\n",
       "    <tr>\n",
       "      <th>2</th>\n",
       "      <td>38.180425</td>\n",
       "      <td>-1.130320</td>\n",
       "      <td>twisted gastrulation BMP signaling modulator 1</td>\n",
       "      <td>Mus musculus</td>\n",
       "      <td>liver</td>\n",
       "      <td>[Ground Control, Carcass]</td>\n",
       "      <td>[Space Flight, Upon euthanasia]</td>\n",
       "      <td>[Ground Control, Carcass]</td>\n",
       "      <td>[Space Flight, Upon euthanasia]</td>\n",
       "      <td>OSD-48</td>\n",
       "    </tr>\n",
       "    <tr>\n",
       "      <th>3</th>\n",
       "      <td>37.011558</td>\n",
       "      <td>-0.691985</td>\n",
       "      <td>par-6 family cell polarity regulator alpha</td>\n",
       "      <td>Mus musculus</td>\n",
       "      <td>liver</td>\n",
       "      <td>[Ground Control, Upon euthanasia]</td>\n",
       "      <td>[Space Flight, Carcass]</td>\n",
       "      <td>[Ground Control, Upon euthanasia]</td>\n",
       "      <td>[Space Flight, Carcass]</td>\n",
       "      <td>OSD-48</td>\n",
       "    </tr>\n",
       "    <tr>\n",
       "      <th>4</th>\n",
       "      <td>30.839535</td>\n",
       "      <td>0.729297</td>\n",
       "      <td>exocyst complex component 8</td>\n",
       "      <td>Mus musculus</td>\n",
       "      <td>liver</td>\n",
       "      <td>[Ground Control, Upon euthanasia]</td>\n",
       "      <td>[Space Flight, Carcass]</td>\n",
       "      <td>[Ground Control, Upon euthanasia]</td>\n",
       "      <td>[Space Flight, Carcass]</td>\n",
       "      <td>OSD-48</td>\n",
       "    </tr>\n",
       "  </tbody>\n",
       "</table>\n",
       "</div>"
      ],
      "text/plain": [
       "   methylation_diff    log2fc                                            gene  \\\n",
       "0         41.196193 -1.428872                 abhydrolase domain containing 2   \n",
       "1         40.042283 -1.247172       brain expressed myelocytomatosis oncogene   \n",
       "2         38.180425 -1.130320  twisted gastrulation BMP signaling modulator 1   \n",
       "3         37.011558 -0.691985      par-6 family cell polarity regulator alpha   \n",
       "4         30.839535  0.729297                     exocyst complex component 8   \n",
       "\n",
       "       organism anatomy                         factors_11  \\\n",
       "0  Mus musculus   liver          [Ground Control, Carcass]   \n",
       "1  Mus musculus   liver          [Ground Control, Carcass]   \n",
       "2  Mus musculus   liver          [Ground Control, Carcass]   \n",
       "3  Mus musculus   liver  [Ground Control, Upon euthanasia]   \n",
       "4  Mus musculus   liver  [Ground Control, Upon euthanasia]   \n",
       "\n",
       "                        factors_12                         factors_21  \\\n",
       "0  [Space Flight, Upon euthanasia]          [Ground Control, Carcass]   \n",
       "1  [Space Flight, Upon euthanasia]          [Ground Control, Carcass]   \n",
       "2  [Space Flight, Upon euthanasia]          [Ground Control, Carcass]   \n",
       "3          [Space Flight, Carcass]  [Ground Control, Upon euthanasia]   \n",
       "4          [Space Flight, Carcass]  [Ground Control, Upon euthanasia]   \n",
       "\n",
       "                        factors_22   study  \n",
       "0  [Space Flight, Upon euthanasia]  OSD-48  \n",
       "1  [Space Flight, Upon euthanasia]  OSD-48  \n",
       "2  [Space Flight, Upon euthanasia]  OSD-48  \n",
       "3          [Space Flight, Carcass]  OSD-48  \n",
       "4          [Space Flight, Carcass]  OSD-48  "
      ]
     },
     "execution_count": 6,
     "metadata": {},
     "output_type": "execute_result"
    }
   ],
   "source": [
    "query = \"\"\"\n",
    "MATCH (s1:Study)-->(a1:Assay)-[m1]->(y:MethylationRegion)\n",
    "      <--(g:MGene)<-[m2]-(a2:Assay)<--(s2:Study)\n",
    "      \n",
    "WHERE s1 = s2                             // comparison within the same study\n",
    "  AND \"Ground Control\" IN a1.factors_1    // Ground Control\n",
    "  AND \"Space Flight\" IN a1.factors_2      // vs. Space Flight for DNA methylation profiling\n",
    "  AND \"Ground Control\" IN a2.factors_1    // Ground Control\n",
    "  AND \"Space Flight\" IN a2.factors_2      // vs. Space Flight for transcription profiling\n",
    "  AND a1.factors_1 = a2.factors_1         // compare only assays where the factors are identical\n",
    "  AND a1.factors_2 = a2.factors_2         // compare only assays where the factors are identical\n",
    "  AND y.in_promoter = true                // Methylated in the promoter region\n",
    "  \n",
    "RETURN m1.methylation_diff AS methylation_diff, m2.log2fc AS log2fc, \n",
    "       g.name AS gene, s1.organism as organism, a1.material_name_1 AS anatomy, \n",
    "       a1.factors_1 as factors_11, a1.factors_2 as factors_12, \n",
    "       a2.factors_1 as factors_21, a2.factors_2 as factors_22, \n",
    "       s1.identifier AS study\n",
    "ORDER BY methylation_diff DESC;\n",
    "\"\"\"\n",
    "comparison = graph.run(query).to_data_frame()\n",
    "comparison.head()"
   ]
  },
  {
   "cell_type": "code",
   "execution_count": 7,
   "id": "8b519039-1b39-483c-9d08-ea4cd3b36ef5",
   "metadata": {},
   "outputs": [
    {
     "data": {
      "image/png": "[encoded data removed]",
      "text/plain": [
       "<Figure size 600x600 with 1 Axes>"
      ]
     },
     "metadata": {},
     "output_type": "display_data"
    }
   ],
   "source": [
    "# There isn't any correlation between the methylation difference and the log2 fold change!\n",
    "plt.figure(figsize=(6, 6))\n",
    "sns.scatterplot(data=comparison, x='methylation_diff', y='log2fc')\n",
    "plt.xlabel('Methylation Difference')\n",
    "plt.ylabel('Log2 Fold Change')\n",
    "plt.grid(True)\n",
    "plt.tight_layout()\n",
    "plt.show()"
   ]
  },
  {
   "cell_type": "code",
   "execution_count": 8,
   "id": "366f7a77-8adf-465c-aac6-b54bea578fbe",
   "metadata": {},
   "outputs": [
    {
     "data": {
      "text/html": [
       "<div>\n",
       "<style scoped>\n",
       "    .dataframe tbody tr th:only-of-type {\n",
       "        vertical-align: middle;\n",
       "    }\n",
       "\n",
       "    .dataframe tbody tr th {\n",
       "        vertical-align: top;\n",
       "    }\n",
       "\n",
       "    .dataframe thead th {\n",
       "        text-align: right;\n",
       "    }\n",
       "</style>\n",
       "<table border=\"1\" class=\"dataframe\">\n",
       "  <thead>\n",
       "    <tr style=\"text-align: right;\">\n",
       "      <th></th>\n",
       "      <th>study</th>\n",
       "      <th>title</th>\n",
       "      <th>mission</th>\n",
       "      <th>progam</th>\n",
       "      <th>start_date</th>\n",
       "      <th>end_date</th>\n",
       "    </tr>\n",
       "  </thead>\n",
       "  <tbody>\n",
       "    <tr>\n",
       "      <th>0</th>\n",
       "      <td>OSD-48</td>\n",
       "      <td>Rodent Research 1</td>\n",
       "      <td>SpaceX-4</td>\n",
       "      <td>International Space Station (ISS)</td>\n",
       "      <td>2014-09-21</td>\n",
       "      <td>2014-10-25</td>\n",
       "    </tr>\n",
       "  </tbody>\n",
       "</table>\n",
       "</div>"
      ],
      "text/plain": [
       "    study              title   mission                             progam  \\\n",
       "0  OSD-48  Rodent Research 1  SpaceX-4  International Space Station (ISS)   \n",
       "\n",
       "   start_date    end_date  \n",
       "0  2014-09-21  2014-10-25  "
      ]
     },
     "execution_count": 8,
     "metadata": {},
     "output_type": "execute_result"
    }
   ],
   "source": [
    "# Get some metadata about study OSD-48.\n",
    "study = \"OSD-48\"\n",
    "\n",
    "query = \"\"\"\n",
    "MATCH (m:Mission)-->(s:Study)\n",
    "WHERE s.identifier = $study\n",
    "RETURN s.identifier AS study, s.project_title AS title, m.name AS mission, \n",
    "       m.flight_program AS progam, m.start_date AS start_date, m.end_date AS end_date;\n",
    "\"\"\"\n",
    "graph.run(query, study=study).to_data_frame()"
   ]
  }
 ],
 "metadata": {
  "kernelspec": {
   "display_name": "Python 3 (ipykernel)",
   "language": "python",
   "name": "python3"
  },
  "language_info": {
   "codemirror_mode": {
    "name": "ipython",
    "version": 3
   },
   "file_extension": ".py",
   "mimetype": "text/x-python",
   "name": "python",
   "nbconvert_exporter": "python",
   "pygments_lexer": "ipython3",
   "version": "3.10.17"
  }
 },
 "nbformat": 4,
 "nbformat_minor": 5
}
