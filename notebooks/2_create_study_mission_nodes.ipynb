{
 "cells": [
  {
   "cell_type": "markdown",
   "id": "ed2f3039-b11d-4bc8-8079-6328cb9c8220",
   "metadata": {},
   "source": [
    " 🌐 Create Study & Mission Nodes in the SPOKE‑GeneLab Knowledge Graph\n",
    "\n",
    "This notebook reads the GeneLab dataset manifest file, extracts mission‑ and study‑level metadata, and writes Neo4j node and relationship files for integration into the SPOKE‑GeneLab Knowledge Graph via the `genelab_utils` package.\n",
    "\n",
    "Author: Peter W. Rose, UC San Diego (pwrose.ucsd@gmail.com)"
   ]
  },
  {
   "cell_type": "code",
   "execution_count": 14,
   "id": "aa2467fa-bb4b-4596-9ccc-b15c9e08a5fb",
   "metadata": {},
   "outputs": [],
   "source": [
    "import pandas as pd\n",
    "import genelab_utils as gl"
   ]
  },
  {
   "cell_type": "code",
   "execution_count": 15,
   "id": "60482c80-d06c-4b7c-83ec-1d3968988228",
   "metadata": {},
   "outputs": [],
   "source": [
    "pd.set_option('display.max_rows', None)  # Shows all rows\n",
    "pd.set_option('display.max_colwidth', None)  # Shows full content of each cell"
   ]
  },
  {
   "cell_type": "markdown",
   "id": "9f624547-cec5-4b91-acda-2a8eea9b85d2",
   "metadata": {},
   "source": [
    "## Setup Environment Variables\n",
    "Edit `../.env` to configure the environment.    "
   ]
  },
  {
   "cell_type": "code",
   "execution_count": 16,
   "id": "660fe172-90f2-4188-8787-c1f118469c0b",
   "metadata": {},
   "outputs": [
    {
     "name": "stdout",
     "output_type": "stream",
     "text": [
      "Environment setup for KG version: v0.0.3\n"
     ]
    }
   ],
   "source": [
    "# Node and relationship directory paths\n",
    "node_dir, rel_dir = gl.setup_environment()"
   ]
  },
  {
   "cell_type": "markdown",
   "id": "73d1eb4e-91ff-4116-820a-a74ed0fe265a",
   "metadata": {},
   "source": [
    "## Validate the KG Metadata Files in the `../kg/v#.#.#/metadata` Directory"
   ]
  },
  {
   "cell_type": "code",
   "execution_count": 17,
   "id": "6c4ec3a1-0233-4dfe-a530-5a55c944841c",
   "metadata": {},
   "outputs": [
    {
     "name": "stdout",
     "output_type": "stream",
     "text": [
      "Metadata files passed the check!\n"
     ]
    }
   ],
   "source": [
    "gl.validate_kg_metadata()"
   ]
  },
  {
   "cell_type": "markdown",
   "id": "6b774b3b-dbcc-4905-9cc2-163c07c52881",
   "metadata": {},
   "source": [
    "## Get Info about available Datasets"
   ]
  },
  {
   "cell_type": "code",
   "execution_count": 18,
   "id": "512d5d38-c65b-4aa7-ae53-bccc874e480a",
   "metadata": {},
   "outputs": [],
   "source": [
    "MANIFEST_PATH = \"../data/manifest.csv\" # file with dataset info"
   ]
  },
  {
   "cell_type": "code",
   "execution_count": 19,
   "id": "2f99420b-7475-4d15-9ab2-ab159c8ada39",
   "metadata": {},
   "outputs": [
    {
     "data": {
      "text/html": [
       "<div>\n",
       "<style scoped>\n",
       "    .dataframe tbody tr th:only-of-type {\n",
       "        vertical-align: middle;\n",
       "    }\n",
       "\n",
       "    .dataframe tbody tr th {\n",
       "        vertical-align: top;\n",
       "    }\n",
       "\n",
       "    .dataframe thead th {\n",
       "        text-align: right;\n",
       "    }\n",
       "</style>\n",
       "<table border=\"1\" class=\"dataframe\">\n",
       "  <thead>\n",
       "    <tr style=\"text-align: right;\">\n",
       "      <th></th>\n",
       "      <th>identifier</th>\n",
       "      <th>technology</th>\n",
       "      <th>measurement</th>\n",
       "      <th>assay_name</th>\n",
       "      <th>taxonomy</th>\n",
       "      <th>organism</th>\n",
       "      <th>material</th>\n",
       "      <th>filename</th>\n",
       "      <th>url</th>\n",
       "    </tr>\n",
       "  </thead>\n",
       "  <tbody>\n",
       "    <tr>\n",
       "      <th>0</th>\n",
       "      <td>OSD-100</td>\n",
       "      <td>RNA Sequencing (RNA-Seq)</td>\n",
       "      <td>transcription profiling</td>\n",
       "      <td>OSD-100_transcription-profiling_rna-sequencing-(rna-seq)</td>\n",
       "      <td>10090</td>\n",
       "      <td>Mus musculus</td>\n",
       "      <td>left eye</td>\n",
       "      <td>GLDS-100_rna_seq_differential_expression.csv</td>\n",
       "      <td>https://osdr.nasa.gov/geode-py/ws/studies/OSD-100/download?source=datamanager&amp;file=GLDS-100_rna_seq_differential_expression.csv</td>\n",
       "    </tr>\n",
       "    <tr>\n",
       "      <th>1</th>\n",
       "      <td>OSD-101</td>\n",
       "      <td>RNA Sequencing (RNA-Seq)</td>\n",
       "      <td>transcription profiling</td>\n",
       "      <td>OSD-101_transcription-profiling_rna-sequencing-(rna-seq)_Illumina</td>\n",
       "      <td>10090</td>\n",
       "      <td>Mus musculus</td>\n",
       "      <td>Left gastrocnemius</td>\n",
       "      <td>GLDS-101_rna_seq_differential_expression.csv</td>\n",
       "      <td>https://osdr.nasa.gov/geode-py/ws/studies/OSD-101/download?source=datamanager&amp;file=GLDS-101_rna_seq_differential_expression.csv</td>\n",
       "    </tr>\n",
       "    <tr>\n",
       "      <th>2</th>\n",
       "      <td>OSD-102</td>\n",
       "      <td>RNA Sequencing (RNA-Seq)</td>\n",
       "      <td>transcription profiling</td>\n",
       "      <td>OSD-102_transcription-profiling_rna-sequencing-(rna-seq)_Illumina HiSeq 4000</td>\n",
       "      <td>10090</td>\n",
       "      <td>Mus musculus</td>\n",
       "      <td>Left kidney</td>\n",
       "      <td>GLDS-102_rna_seq_differential_expression.csv</td>\n",
       "      <td>https://osdr.nasa.gov/geode-py/ws/studies/OSD-102/download?source=datamanager&amp;file=GLDS-102_rna_seq_differential_expression.csv</td>\n",
       "    </tr>\n",
       "    <tr>\n",
       "      <th>3</th>\n",
       "      <td>OSD-103</td>\n",
       "      <td>Whole Genome Bisulfite Sequencing</td>\n",
       "      <td>DNA methylation profiling</td>\n",
       "      <td>OSD-103_dna-methylation-profiling_whole-genome-bisulfite-sequencing</td>\n",
       "      <td>10090</td>\n",
       "      <td>Mus musculus</td>\n",
       "      <td>Quadriceps-left</td>\n",
       "      <td>GLDS-103_Gwgbs_differential_methylation_tiles_GLMethylSeq.csv</td>\n",
       "      <td>https://osdr.nasa.gov/geode-py/ws/studies/OSD-103/download?source=datamanager&amp;file=GLDS-103_Gwgbs_differential_methylation_tiles_GLMethylSeq.csv</td>\n",
       "    </tr>\n",
       "    <tr>\n",
       "      <th>4</th>\n",
       "      <td>OSD-103</td>\n",
       "      <td>RNA Sequencing (RNA-Seq)</td>\n",
       "      <td>transcription profiling</td>\n",
       "      <td>OSD-103_transcription-profiling_rna-sequencing-(rna-seq)</td>\n",
       "      <td>10090</td>\n",
       "      <td>Mus musculus</td>\n",
       "      <td>Quadriceps-left</td>\n",
       "      <td>GLDS-103_rna_seq_differential_expression.csv</td>\n",
       "      <td>https://osdr.nasa.gov/geode-py/ws/studies/OSD-103/download?source=datamanager&amp;file=GLDS-103_rna_seq_differential_expression.csv</td>\n",
       "    </tr>\n",
       "  </tbody>\n",
       "</table>\n",
       "</div>"
      ],
      "text/plain": [
       "  identifier                         technology                measurement  \\\n",
       "0    OSD-100           RNA Sequencing (RNA-Seq)    transcription profiling   \n",
       "1    OSD-101           RNA Sequencing (RNA-Seq)    transcription profiling   \n",
       "2    OSD-102           RNA Sequencing (RNA-Seq)    transcription profiling   \n",
       "3    OSD-103  Whole Genome Bisulfite Sequencing  DNA methylation profiling   \n",
       "4    OSD-103           RNA Sequencing (RNA-Seq)    transcription profiling   \n",
       "\n",
       "                                                                     assay_name  \\\n",
       "0                      OSD-100_transcription-profiling_rna-sequencing-(rna-seq)   \n",
       "1             OSD-101_transcription-profiling_rna-sequencing-(rna-seq)_Illumina   \n",
       "2  OSD-102_transcription-profiling_rna-sequencing-(rna-seq)_Illumina HiSeq 4000   \n",
       "3           OSD-103_dna-methylation-profiling_whole-genome-bisulfite-sequencing   \n",
       "4                      OSD-103_transcription-profiling_rna-sequencing-(rna-seq)   \n",
       "\n",
       "   taxonomy      organism            material  \\\n",
       "0     10090  Mus musculus            left eye   \n",
       "1     10090  Mus musculus  Left gastrocnemius   \n",
       "2     10090  Mus musculus         Left kidney   \n",
       "3     10090  Mus musculus     Quadriceps-left   \n",
       "4     10090  Mus musculus     Quadriceps-left   \n",
       "\n",
       "                                                        filename  \\\n",
       "0                   GLDS-100_rna_seq_differential_expression.csv   \n",
       "1                   GLDS-101_rna_seq_differential_expression.csv   \n",
       "2                   GLDS-102_rna_seq_differential_expression.csv   \n",
       "3  GLDS-103_Gwgbs_differential_methylation_tiles_GLMethylSeq.csv   \n",
       "4                   GLDS-103_rna_seq_differential_expression.csv   \n",
       "\n",
       "                                                                                                                                                url  \n",
       "0                   https://osdr.nasa.gov/geode-py/ws/studies/OSD-100/download?source=datamanager&file=GLDS-100_rna_seq_differential_expression.csv  \n",
       "1                   https://osdr.nasa.gov/geode-py/ws/studies/OSD-101/download?source=datamanager&file=GLDS-101_rna_seq_differential_expression.csv  \n",
       "2                   https://osdr.nasa.gov/geode-py/ws/studies/OSD-102/download?source=datamanager&file=GLDS-102_rna_seq_differential_expression.csv  \n",
       "3  https://osdr.nasa.gov/geode-py/ws/studies/OSD-103/download?source=datamanager&file=GLDS-103_Gwgbs_differential_methylation_tiles_GLMethylSeq.csv  \n",
       "4                   https://osdr.nasa.gov/geode-py/ws/studies/OSD-103/download?source=datamanager&file=GLDS-103_rna_seq_differential_expression.csv  "
      ]
     },
     "execution_count": 19,
     "metadata": {},
     "output_type": "execute_result"
    }
   ],
   "source": [
    "manifest = pd.read_csv(MANIFEST_PATH)\n",
    "manifest.head()"
   ]
  },
  {
   "cell_type": "markdown",
   "id": "01641d7c-e0ca-4463-9b78-fb816e9f2ccb",
   "metadata": {},
   "source": [
    "## Get GeneLab Mission and Study Metadata"
   ]
  },
  {
   "cell_type": "code",
   "execution_count": 20,
   "id": "8bf2d48f-cc47-4315-a1e4-5105a7dc410e",
   "metadata": {},
   "outputs": [
    {
     "data": {
      "text/html": [
       "<div>\n",
       "<style scoped>\n",
       "    .dataframe tbody tr th:only-of-type {\n",
       "        vertical-align: middle;\n",
       "    }\n",
       "\n",
       "    .dataframe tbody tr th {\n",
       "        vertical-align: top;\n",
       "    }\n",
       "\n",
       "    .dataframe thead th {\n",
       "        text-align: right;\n",
       "    }\n",
       "</style>\n",
       "<table border=\"1\" class=\"dataframe\">\n",
       "  <thead>\n",
       "    <tr style=\"text-align: right;\">\n",
       "      <th></th>\n",
       "      <th>identifier</th>\n",
       "      <th>project_type</th>\n",
       "      <th>project_title</th>\n",
       "      <th>taxonomy</th>\n",
       "      <th>organism</th>\n",
       "      <th>flight_program</th>\n",
       "      <th>space_program</th>\n",
       "      <th>mission_id</th>\n",
       "      <th>name</th>\n",
       "      <th>start_date</th>\n",
       "      <th>end_date</th>\n",
       "    </tr>\n",
       "  </thead>\n",
       "  <tbody>\n",
       "    <tr>\n",
       "      <th>0</th>\n",
       "      <td>OSD-100</td>\n",
       "      <td>Spaceflight Study</td>\n",
       "      <td>Rodent Research 1</td>\n",
       "      <td>10090</td>\n",
       "      <td>Mus musculus</td>\n",
       "      <td>International Space Station (ISS)</td>\n",
       "      <td>NASA</td>\n",
       "      <td>SpaceX-4</td>\n",
       "      <td>SpaceX-4</td>\n",
       "      <td>2014-09-21</td>\n",
       "      <td>2014-10-25</td>\n",
       "    </tr>\n",
       "    <tr>\n",
       "      <th>1</th>\n",
       "      <td>OSD-101</td>\n",
       "      <td>Spaceflight Study</td>\n",
       "      <td>Rodent Research 1</td>\n",
       "      <td>10090</td>\n",
       "      <td>Mus musculus</td>\n",
       "      <td>International Space Station (ISS)</td>\n",
       "      <td>NASA</td>\n",
       "      <td>SpaceX-4</td>\n",
       "      <td>SpaceX-4</td>\n",
       "      <td>2014-09-21</td>\n",
       "      <td>2014-10-25</td>\n",
       "    </tr>\n",
       "    <tr>\n",
       "      <th>2</th>\n",
       "      <td>OSD-102</td>\n",
       "      <td>Spaceflight Study</td>\n",
       "      <td>Rodent Research 1</td>\n",
       "      <td>10090</td>\n",
       "      <td>Mus musculus</td>\n",
       "      <td>International Space Station (ISS)</td>\n",
       "      <td>NASA</td>\n",
       "      <td>SpaceX-4</td>\n",
       "      <td>SpaceX-4</td>\n",
       "      <td>2014-09-21</td>\n",
       "      <td>2014-10-25</td>\n",
       "    </tr>\n",
       "    <tr>\n",
       "      <th>3</th>\n",
       "      <td>OSD-103</td>\n",
       "      <td>Spaceflight Study</td>\n",
       "      <td>Rodent Research 1</td>\n",
       "      <td>10090</td>\n",
       "      <td>Mus musculus</td>\n",
       "      <td>International Space Station (ISS)</td>\n",
       "      <td>NASA</td>\n",
       "      <td>SpaceX-4</td>\n",
       "      <td>SpaceX-4</td>\n",
       "      <td>2014-09-21</td>\n",
       "      <td>2014-10-25</td>\n",
       "    </tr>\n",
       "    <tr>\n",
       "      <th>4</th>\n",
       "      <td>OSD-103</td>\n",
       "      <td>Spaceflight Study</td>\n",
       "      <td>Rodent Research 1</td>\n",
       "      <td>10090</td>\n",
       "      <td>Mus musculus</td>\n",
       "      <td>International Space Station (ISS)</td>\n",
       "      <td>NASA</td>\n",
       "      <td>SpaceX-4</td>\n",
       "      <td>SpaceX-4</td>\n",
       "      <td>2014-09-21</td>\n",
       "      <td>2014-10-25</td>\n",
       "    </tr>\n",
       "  </tbody>\n",
       "</table>\n",
       "</div>"
      ],
      "text/plain": [
       "  identifier       project_type      project_title  taxonomy      organism  \\\n",
       "0    OSD-100  Spaceflight Study  Rodent Research 1     10090  Mus musculus   \n",
       "1    OSD-101  Spaceflight Study  Rodent Research 1     10090  Mus musculus   \n",
       "2    OSD-102  Spaceflight Study  Rodent Research 1     10090  Mus musculus   \n",
       "3    OSD-103  Spaceflight Study  Rodent Research 1     10090  Mus musculus   \n",
       "4    OSD-103  Spaceflight Study  Rodent Research 1     10090  Mus musculus   \n",
       "\n",
       "                      flight_program space_program mission_id      name  \\\n",
       "0  International Space Station (ISS)          NASA   SpaceX-4  SpaceX-4   \n",
       "1  International Space Station (ISS)          NASA   SpaceX-4  SpaceX-4   \n",
       "2  International Space Station (ISS)          NASA   SpaceX-4  SpaceX-4   \n",
       "3  International Space Station (ISS)          NASA   SpaceX-4  SpaceX-4   \n",
       "4  International Space Station (ISS)          NASA   SpaceX-4  SpaceX-4   \n",
       "\n",
       "   start_date    end_date  \n",
       "0  2014-09-21  2014-10-25  \n",
       "1  2014-09-21  2014-10-25  \n",
       "2  2014-09-21  2014-10-25  \n",
       "3  2014-09-21  2014-10-25  \n",
       "4  2014-09-21  2014-10-25  "
      ]
     },
     "execution_count": 20,
     "metadata": {},
     "output_type": "execute_result"
    }
   ],
   "source": [
    "metadata = gl.get_metadata(manifest)\n",
    "metadata.head()"
   ]
  },
  {
   "cell_type": "markdown",
   "id": "8341a83a-2177-4cc0-99bb-c6f8e93ebfa0",
   "metadata": {},
   "source": [
    "## Create Mission Nodes"
   ]
  },
  {
   "cell_type": "code",
   "execution_count": 21,
   "id": "0371f4f8-1829-4bcf-9d0d-6d6711546652",
   "metadata": {},
   "outputs": [],
   "source": [
    "missions = metadata[[\"mission_id\", \"name\", \"flight_program\", \"space_program\", \"start_date\", \"end_date\"]]\n",
    "missions = missions[missions[\"name\"] != \"\"].copy()\n",
    "missions.rename(columns={\"mission_id\": \"identifier\"}, inplace=True)"
   ]
  },
  {
   "cell_type": "code",
   "execution_count": 22,
   "id": "6207251c-dd09-4649-a573-8963b80854df",
   "metadata": {},
   "outputs": [
    {
     "name": "stdout",
     "output_type": "stream",
     "text": [
      "Number of Mission nodes: 22\n"
     ]
    },
    {
     "data": {
      "text/html": [
       "<div>\n",
       "<style scoped>\n",
       "    .dataframe tbody tr th:only-of-type {\n",
       "        vertical-align: middle;\n",
       "    }\n",
       "\n",
       "    .dataframe tbody tr th {\n",
       "        vertical-align: top;\n",
       "    }\n",
       "\n",
       "    .dataframe thead th {\n",
       "        text-align: right;\n",
       "    }\n",
       "</style>\n",
       "<table border=\"1\" class=\"dataframe\">\n",
       "  <thead>\n",
       "    <tr style=\"text-align: right;\">\n",
       "      <th></th>\n",
       "      <th>identifier</th>\n",
       "      <th>name</th>\n",
       "      <th>flight_program</th>\n",
       "      <th>space_program</th>\n",
       "      <th>start_date</th>\n",
       "      <th>end_date</th>\n",
       "    </tr>\n",
       "  </thead>\n",
       "  <tbody>\n",
       "    <tr>\n",
       "      <th>0</th>\n",
       "      <td>SpaceX-4</td>\n",
       "      <td>SpaceX-4</td>\n",
       "      <td>International Space Station (ISS)</td>\n",
       "      <td>NASA</td>\n",
       "      <td>2014-09-21</td>\n",
       "      <td>2014-10-25</td>\n",
       "    </tr>\n",
       "    <tr>\n",
       "      <th>13</th>\n",
       "      <td>Expedition-14</td>\n",
       "      <td>Expedition 14</td>\n",
       "      <td>International Space Station (ISS)</td>\n",
       "      <td>NASA</td>\n",
       "      <td>2006-09-18</td>\n",
       "      <td>2007-04-21</td>\n",
       "    </tr>\n",
       "    <tr>\n",
       "      <th>14</th>\n",
       "      <td>SpaceX-8</td>\n",
       "      <td>SpaceX-8</td>\n",
       "      <td>International Space Station (ISS)</td>\n",
       "      <td>NASA</td>\n",
       "      <td>2016-04-08</td>\n",
       "      <td>2016-05-11</td>\n",
       "    </tr>\n",
       "    <tr>\n",
       "      <th>25</th>\n",
       "      <td>SpaceX-9</td>\n",
       "      <td>SpaceX-9</td>\n",
       "      <td>International Space Station (ISS)</td>\n",
       "      <td>NASA</td>\n",
       "      <td>2016-07-18</td>\n",
       "      <td>2016-08-26</td>\n",
       "    </tr>\n",
       "    <tr>\n",
       "      <th>35</th>\n",
       "      <td>STS-135</td>\n",
       "      <td>STS-135</td>\n",
       "      <td>Space Transportation System (STS)</td>\n",
       "      <td>NASA</td>\n",
       "      <td>2011-07-08</td>\n",
       "      <td>2011-07-21</td>\n",
       "    </tr>\n",
       "  </tbody>\n",
       "</table>\n",
       "</div>"
      ],
      "text/plain": [
       "       identifier           name                     flight_program  \\\n",
       "0        SpaceX-4       SpaceX-4  International Space Station (ISS)   \n",
       "13  Expedition-14  Expedition 14  International Space Station (ISS)   \n",
       "14       SpaceX-8       SpaceX-8  International Space Station (ISS)   \n",
       "25       SpaceX-9       SpaceX-9  International Space Station (ISS)   \n",
       "35        STS-135        STS-135  Space Transportation System (STS)   \n",
       "\n",
       "   space_program  start_date    end_date  \n",
       "0           NASA  2014-09-21  2014-10-25  \n",
       "13          NASA  2006-09-18  2007-04-21  \n",
       "14          NASA  2016-04-08  2016-05-11  \n",
       "25          NASA  2016-07-18  2016-08-26  \n",
       "35          NASA  2011-07-08  2011-07-21  "
      ]
     },
     "execution_count": 22,
     "metadata": {},
     "output_type": "execute_result"
    }
   ],
   "source": [
    "mission_nodes = gl.save_dataframe_to_kg(missions, 'Mission', node_dir)\n",
    "print(f\"Number of Mission nodes: {mission_nodes.shape[0]}\")\n",
    "mission_nodes.head()"
   ]
  },
  {
   "cell_type": "markdown",
   "id": "5dfdeebe-e9cc-4788-b288-5517d5f05279",
   "metadata": {},
   "source": [
    "## Create Study Nodes"
   ]
  },
  {
   "cell_type": "code",
   "execution_count": 23,
   "id": "ae4aeee8-7375-468d-a7b2-536d914eb1c7",
   "metadata": {},
   "outputs": [],
   "source": [
    "studies = metadata[[\"identifier\", \"project_title\", \"project_type\", \"organism\", \"taxonomy\"]].copy()\n",
    "studies[\"name\"] = studies[\"identifier\"]\n",
    "studies = studies[[\"identifier\", \"name\", \"project_title\", \"project_type\", \"organism\", \"taxonomy\"]]"
   ]
  },
  {
   "cell_type": "code",
   "execution_count": 24,
   "id": "1e14cf62-3978-4538-ac30-10c581241149",
   "metadata": {},
   "outputs": [
    {
     "name": "stdout",
     "output_type": "stream",
     "text": [
      "Number of Study nodes: 125\n"
     ]
    },
    {
     "data": {
      "text/html": [
       "<div>\n",
       "<style scoped>\n",
       "    .dataframe tbody tr th:only-of-type {\n",
       "        vertical-align: middle;\n",
       "    }\n",
       "\n",
       "    .dataframe tbody tr th {\n",
       "        vertical-align: top;\n",
       "    }\n",
       "\n",
       "    .dataframe thead th {\n",
       "        text-align: right;\n",
       "    }\n",
       "</style>\n",
       "<table border=\"1\" class=\"dataframe\">\n",
       "  <thead>\n",
       "    <tr style=\"text-align: right;\">\n",
       "      <th></th>\n",
       "      <th>identifier</th>\n",
       "      <th>name</th>\n",
       "      <th>project_title</th>\n",
       "      <th>project_type</th>\n",
       "      <th>organism</th>\n",
       "      <th>taxonomy</th>\n",
       "    </tr>\n",
       "  </thead>\n",
       "  <tbody>\n",
       "    <tr>\n",
       "      <th>0</th>\n",
       "      <td>OSD-100</td>\n",
       "      <td>OSD-100</td>\n",
       "      <td>Rodent Research 1</td>\n",
       "      <td>Spaceflight Study</td>\n",
       "      <td>Mus musculus</td>\n",
       "      <td>10090</td>\n",
       "    </tr>\n",
       "    <tr>\n",
       "      <th>1</th>\n",
       "      <td>OSD-101</td>\n",
       "      <td>OSD-101</td>\n",
       "      <td>Rodent Research 1</td>\n",
       "      <td>Spaceflight Study</td>\n",
       "      <td>Mus musculus</td>\n",
       "      <td>10090</td>\n",
       "    </tr>\n",
       "    <tr>\n",
       "      <th>2</th>\n",
       "      <td>OSD-102</td>\n",
       "      <td>OSD-102</td>\n",
       "      <td>Rodent Research 1</td>\n",
       "      <td>Spaceflight Study</td>\n",
       "      <td>Mus musculus</td>\n",
       "      <td>10090</td>\n",
       "    </tr>\n",
       "    <tr>\n",
       "      <th>3</th>\n",
       "      <td>OSD-103</td>\n",
       "      <td>OSD-103</td>\n",
       "      <td>Rodent Research 1</td>\n",
       "      <td>Spaceflight Study</td>\n",
       "      <td>Mus musculus</td>\n",
       "      <td>10090</td>\n",
       "    </tr>\n",
       "    <tr>\n",
       "      <th>5</th>\n",
       "      <td>OSD-104</td>\n",
       "      <td>OSD-104</td>\n",
       "      <td>Rodent Research 1</td>\n",
       "      <td>Spaceflight Study</td>\n",
       "      <td>Mus musculus</td>\n",
       "      <td>10090</td>\n",
       "    </tr>\n",
       "  </tbody>\n",
       "</table>\n",
       "</div>"
      ],
      "text/plain": [
       "  identifier     name      project_title       project_type      organism  \\\n",
       "0    OSD-100  OSD-100  Rodent Research 1  Spaceflight Study  Mus musculus   \n",
       "1    OSD-101  OSD-101  Rodent Research 1  Spaceflight Study  Mus musculus   \n",
       "2    OSD-102  OSD-102  Rodent Research 1  Spaceflight Study  Mus musculus   \n",
       "3    OSD-103  OSD-103  Rodent Research 1  Spaceflight Study  Mus musculus   \n",
       "5    OSD-104  OSD-104  Rodent Research 1  Spaceflight Study  Mus musculus   \n",
       "\n",
       "   taxonomy  \n",
       "0     10090  \n",
       "1     10090  \n",
       "2     10090  \n",
       "3     10090  \n",
       "5     10090  "
      ]
     },
     "execution_count": 24,
     "metadata": {},
     "output_type": "execute_result"
    }
   ],
   "source": [
    "study_nodes = gl.save_dataframe_to_kg(studies, 'Study', node_dir)\n",
    "print(f\"Number of Study nodes: {study_nodes.shape[0]}\")\n",
    "study_nodes.head()"
   ]
  },
  {
   "cell_type": "markdown",
   "id": "afedd147-0854-48e1-a7af-eefd46bdd2ee",
   "metadata": {},
   "source": [
    "## Create Missions-CONDUCTED_MIcS-Study Relationships"
   ]
  },
  {
   "cell_type": "code",
   "execution_count": 25,
   "id": "03df28fe-17b2-4754-9881-053c61e2f6ee",
   "metadata": {},
   "outputs": [],
   "source": [
    "mission_conducted_study = metadata[[\"mission_id\", \"identifier\"]]\n",
    "# Not all studies have an associated mission (e.g., ground studies)\n",
    "mission_conducted_study = mission_conducted_study[mission_conducted_study[\"mission_id\"] != \"\"].copy()\n",
    "mission_conducted_study.rename(columns={\"mission_id\": \"from\", \"identifier\": \"to\", }, inplace=True)"
   ]
  },
  {
   "cell_type": "code",
   "execution_count": 26,
   "id": "2ef8e3b4-6d66-4fd5-bb67-466606a5a386",
   "metadata": {},
   "outputs": [
    {
     "name": "stdout",
     "output_type": "stream",
     "text": [
      "Number of Mission-CONDUCTED_MIcS-Study relationships: 74\n"
     ]
    },
    {
     "data": {
      "text/html": [
       "<div>\n",
       "<style scoped>\n",
       "    .dataframe tbody tr th:only-of-type {\n",
       "        vertical-align: middle;\n",
       "    }\n",
       "\n",
       "    .dataframe tbody tr th {\n",
       "        vertical-align: top;\n",
       "    }\n",
       "\n",
       "    .dataframe thead th {\n",
       "        text-align: right;\n",
       "    }\n",
       "</style>\n",
       "<table border=\"1\" class=\"dataframe\">\n",
       "  <thead>\n",
       "    <tr style=\"text-align: right;\">\n",
       "      <th></th>\n",
       "      <th>from</th>\n",
       "      <th>to</th>\n",
       "    </tr>\n",
       "  </thead>\n",
       "  <tbody>\n",
       "    <tr>\n",
       "      <th>0</th>\n",
       "      <td>SpaceX-4</td>\n",
       "      <td>OSD-100</td>\n",
       "    </tr>\n",
       "    <tr>\n",
       "      <th>1</th>\n",
       "      <td>SpaceX-4</td>\n",
       "      <td>OSD-101</td>\n",
       "    </tr>\n",
       "    <tr>\n",
       "      <th>2</th>\n",
       "      <td>SpaceX-4</td>\n",
       "      <td>OSD-102</td>\n",
       "    </tr>\n",
       "    <tr>\n",
       "      <th>3</th>\n",
       "      <td>SpaceX-4</td>\n",
       "      <td>OSD-103</td>\n",
       "    </tr>\n",
       "    <tr>\n",
       "      <th>5</th>\n",
       "      <td>SpaceX-4</td>\n",
       "      <td>OSD-104</td>\n",
       "    </tr>\n",
       "  </tbody>\n",
       "</table>\n",
       "</div>"
      ],
      "text/plain": [
       "       from       to\n",
       "0  SpaceX-4  OSD-100\n",
       "1  SpaceX-4  OSD-101\n",
       "2  SpaceX-4  OSD-102\n",
       "3  SpaceX-4  OSD-103\n",
       "5  SpaceX-4  OSD-104"
      ]
     },
     "execution_count": 26,
     "metadata": {},
     "output_type": "execute_result"
    }
   ],
   "source": [
    "mission_conducted_study_rels = gl.save_dataframe_to_kg(mission_conducted_study, 'Mission-CONDUCTED_MIcS-Study', rel_dir)\n",
    "print(f\"Number of Mission-CONDUCTED_MIcS-Study relationships: {mission_conducted_study_rels.shape[0]}\")\n",
    "mission_conducted_study_rels.head()"
   ]
  }
 ],
 "metadata": {
  "kernelspec": {
   "display_name": "Python 3 (ipykernel)",
   "language": "python",
   "name": "python3"
  },
  "language_info": {
   "codemirror_mode": {
    "name": "ipython",
    "version": 3
   },
   "file_extension": ".py",
   "mimetype": "text/x-python",
   "name": "python",
   "nbconvert_exporter": "python",
   "pygments_lexer": "ipython3",
   "version": "3.10.17"
  }
 },
 "nbformat": 4,
 "nbformat_minor": 5
}
