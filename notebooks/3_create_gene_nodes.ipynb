{
 "cells": [
  {
   "cell_type": "markdown",
   "id": "3c08b615-1c0b-483a-b5e1-1a10ab100b40",
   "metadata": {},
   "source": [
    "# 🌱 Create Model‑Organism & Human Gene Nodes with Orthology Links\n",
    "\n",
    "This notebook processes the GeneLab datasets to build Neo4j node and relationship files for model‑organism genes (MGene), human ortholog genes, and their orthology links. It uses the `genelab_utils` and `ortholog_mapper` packages to extract gene IDs, map to human orthologs, and write CSVs ready for SPOKE ingestion.\n",
    "\n",
    "Author: Peter W. Rose, UC San Diego (pwrose.ucsd@gmail.com)"
   ]
  },
  {
   "cell_type": "code",
   "execution_count": 15,
   "id": "0621d848-164b-4388-a578-f524397bae87",
   "metadata": {},
   "outputs": [],
   "source": [
    "import pandas as pd\n",
    "import genelab_utils as gl\n",
    "import ortholog_mapper"
   ]
  },
  {
   "cell_type": "code",
   "execution_count": 16,
   "id": "1eaa2915-36a9-4f6d-8146-3497f77f7a19",
   "metadata": {},
   "outputs": [],
   "source": [
    "pd.set_option('display.max_rows', None)  # Shows all rows\n",
    "pd.set_option('display.max_colwidth', None)  # Shows full content of each cell"
   ]
  },
  {
   "cell_type": "markdown",
   "id": "befb5cb5-a6a1-452e-9d57-e0b31709f9ab",
   "metadata": {},
   "source": [
    "## Setup Environment Variables\n",
    "Edit `../.env` to configure the environment.   "
   ]
  },
  {
   "cell_type": "code",
   "execution_count": 17,
   "id": "da606167-b08f-43dd-ba4f-841681af29c7",
   "metadata": {},
   "outputs": [
    {
     "name": "stdout",
     "output_type": "stream",
     "text": [
      "Environment setup for KG version: v0.0.3\n"
     ]
    }
   ],
   "source": [
    "# Node and relationship directory paths\n",
    "node_dir, rel_dir = gl.setup_environment()"
   ]
  },
  {
   "cell_type": "code",
   "execution_count": 18,
   "id": "c1d839f7-5603-4e03-b2d8-ef8e913ee7b8",
   "metadata": {},
   "outputs": [],
   "source": [
    "MANIFEST_PATH = \"../data/manifest.csv\" # file with dataset info"
   ]
  },
  {
   "cell_type": "markdown",
   "id": "1f817961-be2c-495a-a5f1-588115b5c766",
   "metadata": {},
   "source": [
    "## Get Info about available Datasets"
   ]
  },
  {
   "cell_type": "code",
   "execution_count": 19,
   "id": "227f2609-24ce-482f-90af-1dd9b9ffd669",
   "metadata": {},
   "outputs": [
    {
     "data": {
      "text/html": [
       "<div>\n",
       "<style scoped>\n",
       "    .dataframe tbody tr th:only-of-type {\n",
       "        vertical-align: middle;\n",
       "    }\n",
       "\n",
       "    .dataframe tbody tr th {\n",
       "        vertical-align: top;\n",
       "    }\n",
       "\n",
       "    .dataframe thead th {\n",
       "        text-align: right;\n",
       "    }\n",
       "</style>\n",
       "<table border=\"1\" class=\"dataframe\">\n",
       "  <thead>\n",
       "    <tr style=\"text-align: right;\">\n",
       "      <th></th>\n",
       "      <th>identifier</th>\n",
       "      <th>technology</th>\n",
       "      <th>measurement</th>\n",
       "      <th>assay_name</th>\n",
       "      <th>taxonomy</th>\n",
       "      <th>organism</th>\n",
       "      <th>material</th>\n",
       "      <th>filename</th>\n",
       "      <th>url</th>\n",
       "    </tr>\n",
       "  </thead>\n",
       "  <tbody>\n",
       "    <tr>\n",
       "      <th>0</th>\n",
       "      <td>OSD-100</td>\n",
       "      <td>RNA Sequencing (RNA-Seq)</td>\n",
       "      <td>transcription profiling</td>\n",
       "      <td>OSD-100_transcription-profiling_rna-sequencing-(rna-seq)</td>\n",
       "      <td>10090</td>\n",
       "      <td>Mus musculus</td>\n",
       "      <td>left eye</td>\n",
       "      <td>GLDS-100_rna_seq_differential_expression.csv</td>\n",
       "      <td>https://osdr.nasa.gov/geode-py/ws/studies/OSD-100/download?source=datamanager&amp;file=GLDS-100_rna_seq_differential_expression.csv</td>\n",
       "    </tr>\n",
       "    <tr>\n",
       "      <th>1</th>\n",
       "      <td>OSD-101</td>\n",
       "      <td>RNA Sequencing (RNA-Seq)</td>\n",
       "      <td>transcription profiling</td>\n",
       "      <td>OSD-101_transcription-profiling_rna-sequencing-(rna-seq)_Illumina</td>\n",
       "      <td>10090</td>\n",
       "      <td>Mus musculus</td>\n",
       "      <td>Left gastrocnemius</td>\n",
       "      <td>GLDS-101_rna_seq_differential_expression.csv</td>\n",
       "      <td>https://osdr.nasa.gov/geode-py/ws/studies/OSD-101/download?source=datamanager&amp;file=GLDS-101_rna_seq_differential_expression.csv</td>\n",
       "    </tr>\n",
       "    <tr>\n",
       "      <th>2</th>\n",
       "      <td>OSD-102</td>\n",
       "      <td>RNA Sequencing (RNA-Seq)</td>\n",
       "      <td>transcription profiling</td>\n",
       "      <td>OSD-102_transcription-profiling_rna-sequencing-(rna-seq)_Illumina HiSeq 4000</td>\n",
       "      <td>10090</td>\n",
       "      <td>Mus musculus</td>\n",
       "      <td>Left kidney</td>\n",
       "      <td>GLDS-102_rna_seq_differential_expression.csv</td>\n",
       "      <td>https://osdr.nasa.gov/geode-py/ws/studies/OSD-102/download?source=datamanager&amp;file=GLDS-102_rna_seq_differential_expression.csv</td>\n",
       "    </tr>\n",
       "    <tr>\n",
       "      <th>3</th>\n",
       "      <td>OSD-103</td>\n",
       "      <td>Whole Genome Bisulfite Sequencing</td>\n",
       "      <td>DNA methylation profiling</td>\n",
       "      <td>OSD-103_dna-methylation-profiling_whole-genome-bisulfite-sequencing</td>\n",
       "      <td>10090</td>\n",
       "      <td>Mus musculus</td>\n",
       "      <td>Quadriceps-left</td>\n",
       "      <td>GLDS-103_Gwgbs_differential_methylation_tiles_GLMethylSeq.csv</td>\n",
       "      <td>https://osdr.nasa.gov/geode-py/ws/studies/OSD-103/download?source=datamanager&amp;file=GLDS-103_Gwgbs_differential_methylation_tiles_GLMethylSeq.csv</td>\n",
       "    </tr>\n",
       "    <tr>\n",
       "      <th>4</th>\n",
       "      <td>OSD-103</td>\n",
       "      <td>RNA Sequencing (RNA-Seq)</td>\n",
       "      <td>transcription profiling</td>\n",
       "      <td>OSD-103_transcription-profiling_rna-sequencing-(rna-seq)</td>\n",
       "      <td>10090</td>\n",
       "      <td>Mus musculus</td>\n",
       "      <td>Quadriceps-left</td>\n",
       "      <td>GLDS-103_rna_seq_differential_expression.csv</td>\n",
       "      <td>https://osdr.nasa.gov/geode-py/ws/studies/OSD-103/download?source=datamanager&amp;file=GLDS-103_rna_seq_differential_expression.csv</td>\n",
       "    </tr>\n",
       "  </tbody>\n",
       "</table>\n",
       "</div>"
      ],
      "text/plain": [
       "  identifier                         technology                measurement  \\\n",
       "0    OSD-100           RNA Sequencing (RNA-Seq)    transcription profiling   \n",
       "1    OSD-101           RNA Sequencing (RNA-Seq)    transcription profiling   \n",
       "2    OSD-102           RNA Sequencing (RNA-Seq)    transcription profiling   \n",
       "3    OSD-103  Whole Genome Bisulfite Sequencing  DNA methylation profiling   \n",
       "4    OSD-103           RNA Sequencing (RNA-Seq)    transcription profiling   \n",
       "\n",
       "                                                                     assay_name  \\\n",
       "0                      OSD-100_transcription-profiling_rna-sequencing-(rna-seq)   \n",
       "1             OSD-101_transcription-profiling_rna-sequencing-(rna-seq)_Illumina   \n",
       "2  OSD-102_transcription-profiling_rna-sequencing-(rna-seq)_Illumina HiSeq 4000   \n",
       "3           OSD-103_dna-methylation-profiling_whole-genome-bisulfite-sequencing   \n",
       "4                      OSD-103_transcription-profiling_rna-sequencing-(rna-seq)   \n",
       "\n",
       "   taxonomy      organism            material  \\\n",
       "0     10090  Mus musculus            left eye   \n",
       "1     10090  Mus musculus  Left gastrocnemius   \n",
       "2     10090  Mus musculus         Left kidney   \n",
       "3     10090  Mus musculus     Quadriceps-left   \n",
       "4     10090  Mus musculus     Quadriceps-left   \n",
       "\n",
       "                                                        filename  \\\n",
       "0                   GLDS-100_rna_seq_differential_expression.csv   \n",
       "1                   GLDS-101_rna_seq_differential_expression.csv   \n",
       "2                   GLDS-102_rna_seq_differential_expression.csv   \n",
       "3  GLDS-103_Gwgbs_differential_methylation_tiles_GLMethylSeq.csv   \n",
       "4                   GLDS-103_rna_seq_differential_expression.csv   \n",
       "\n",
       "                                                                                                                                                url  \n",
       "0                   https://osdr.nasa.gov/geode-py/ws/studies/OSD-100/download?source=datamanager&file=GLDS-100_rna_seq_differential_expression.csv  \n",
       "1                   https://osdr.nasa.gov/geode-py/ws/studies/OSD-101/download?source=datamanager&file=GLDS-101_rna_seq_differential_expression.csv  \n",
       "2                   https://osdr.nasa.gov/geode-py/ws/studies/OSD-102/download?source=datamanager&file=GLDS-102_rna_seq_differential_expression.csv  \n",
       "3  https://osdr.nasa.gov/geode-py/ws/studies/OSD-103/download?source=datamanager&file=GLDS-103_Gwgbs_differential_methylation_tiles_GLMethylSeq.csv  \n",
       "4                   https://osdr.nasa.gov/geode-py/ws/studies/OSD-103/download?source=datamanager&file=GLDS-103_rna_seq_differential_expression.csv  "
      ]
     },
     "execution_count": 19,
     "metadata": {},
     "output_type": "execute_result"
    }
   ],
   "source": [
    "manifest = pd.read_csv(MANIFEST_PATH)\n",
    "manifest.head()"
   ]
  },
  {
   "cell_type": "markdown",
   "id": "cf55038a-5829-46dd-b4dd-9ec6380f8ca0",
   "metadata": {},
   "source": [
    "## Create MGene (Model Organism Gene) Nodes"
   ]
  },
  {
   "cell_type": "code",
   "execution_count": 20,
   "id": "adc49aad-0682-48a9-a049-9fc6b1d2bd48",
   "metadata": {},
   "outputs": [],
   "source": [
    "# Parse all data files for gene ids (ENTREZID) and create a unique list of all genes.\n",
    "mgenes = gl.extract_gene_info(manifest)"
   ]
  },
  {
   "cell_type": "code",
   "execution_count": 21,
   "id": "923e2bc0-290b-4ce6-b26c-a9cee932c1eb",
   "metadata": {},
   "outputs": [
    {
     "name": "stdout",
     "output_type": "stream",
     "text": [
      "Number of MGene nodes: 57789\n"
     ]
    },
    {
     "data": {
      "text/html": [
       "<div>\n",
       "<style scoped>\n",
       "    .dataframe tbody tr th:only-of-type {\n",
       "        vertical-align: middle;\n",
       "    }\n",
       "\n",
       "    .dataframe tbody tr th {\n",
       "        vertical-align: top;\n",
       "    }\n",
       "\n",
       "    .dataframe thead th {\n",
       "        text-align: right;\n",
       "    }\n",
       "</style>\n",
       "<table border=\"1\" class=\"dataframe\">\n",
       "  <thead>\n",
       "    <tr style=\"text-align: right;\">\n",
       "      <th></th>\n",
       "      <th>identifier</th>\n",
       "      <th>name</th>\n",
       "      <th>organism</th>\n",
       "      <th>taxonomy</th>\n",
       "    </tr>\n",
       "  </thead>\n",
       "  <tbody>\n",
       "    <tr>\n",
       "      <th>0</th>\n",
       "      <td>23849</td>\n",
       "      <td>Kruppel-like factor 6</td>\n",
       "      <td>Mus musculus</td>\n",
       "      <td>10090</td>\n",
       "    </tr>\n",
       "    <tr>\n",
       "      <th>1</th>\n",
       "      <td>235339</td>\n",
       "      <td>dihydrolipoamide S-acetyltransferase (E2 component of pyruvate dehydrogenase complex)</td>\n",
       "      <td>Mus musculus</td>\n",
       "      <td>10090</td>\n",
       "    </tr>\n",
       "    <tr>\n",
       "      <th>2</th>\n",
       "      <td>12444</td>\n",
       "      <td>cyclin D2</td>\n",
       "      <td>Mus musculus</td>\n",
       "      <td>10090</td>\n",
       "    </tr>\n",
       "    <tr>\n",
       "      <th>3</th>\n",
       "      <td>66108</td>\n",
       "      <td>NADH:ubiquinone oxidoreductase subunit A9</td>\n",
       "      <td>Mus musculus</td>\n",
       "      <td>10090</td>\n",
       "    </tr>\n",
       "    <tr>\n",
       "      <th>4</th>\n",
       "      <td>57278</td>\n",
       "      <td>basal cell adhesion molecule</td>\n",
       "      <td>Mus musculus</td>\n",
       "      <td>10090</td>\n",
       "    </tr>\n",
       "  </tbody>\n",
       "</table>\n",
       "</div>"
      ],
      "text/plain": [
       "  identifier  \\\n",
       "0      23849   \n",
       "1     235339   \n",
       "2      12444   \n",
       "3      66108   \n",
       "4      57278   \n",
       "\n",
       "                                                                                    name  \\\n",
       "0                                                                  Kruppel-like factor 6   \n",
       "1  dihydrolipoamide S-acetyltransferase (E2 component of pyruvate dehydrogenase complex)   \n",
       "2                                                                              cyclin D2   \n",
       "3                                              NADH:ubiquinone oxidoreductase subunit A9   \n",
       "4                                                           basal cell adhesion molecule   \n",
       "\n",
       "       organism taxonomy  \n",
       "0  Mus musculus    10090  \n",
       "1  Mus musculus    10090  \n",
       "2  Mus musculus    10090  \n",
       "3  Mus musculus    10090  \n",
       "4  Mus musculus    10090  "
      ]
     },
     "execution_count": 21,
     "metadata": {},
     "output_type": "execute_result"
    }
   ],
   "source": [
    "mgene_nodes = gl.save_dataframe_to_kg(mgenes, 'MGene', node_dir)\n",
    "print(f\"Number of MGene nodes: {mgene_nodes.shape[0]}\")\n",
    "mgene_nodes.head()"
   ]
  },
  {
   "cell_type": "markdown",
   "id": "69ac626e-a70f-4bf5-98d2-adc8ec341509",
   "metadata": {},
   "source": [
    "## Map Model Organism Genes to Human Orthologs\n",
    "Orthologs are mapped using the taxonomy id and ENTREZ gene identifier. Suggestions for suitable ortholog databases are listed below."
   ]
  },
  {
   "cell_type": "code",
   "execution_count": 22,
   "id": "cef74ad5-aeeb-4ebd-a687-ff4cdeeeeda6",
   "metadata": {},
   "outputs": [
    {
     "name": "stdout",
     "output_type": "stream",
     "text": [
      "List of taxonomy ids in the datasets: ['10090' '9606' '10116']\n"
     ]
    }
   ],
   "source": [
    "# List of taxonomies in the dataset with statistically significant data that have ENTREZ IDs\n",
    "print(f\"List of taxonomy ids in the datasets: {mgenes['taxonomy'].unique()}\")"
   ]
  },
  {
   "cell_type": "code",
   "execution_count": 23,
   "id": "bf78572e-4337-4b12-a4c9-794191cecba4",
   "metadata": {},
   "outputs": [
    {
     "data": {
      "text/html": [
       "<div>\n",
       "<style scoped>\n",
       "    .dataframe tbody tr th:only-of-type {\n",
       "        vertical-align: middle;\n",
       "    }\n",
       "\n",
       "    .dataframe tbody tr th {\n",
       "        vertical-align: top;\n",
       "    }\n",
       "\n",
       "    .dataframe thead th {\n",
       "        text-align: right;\n",
       "    }\n",
       "</style>\n",
       "<table border=\"1\" class=\"dataframe\">\n",
       "  <thead>\n",
       "    <tr style=\"text-align: right;\">\n",
       "      <th></th>\n",
       "      <th>taxonomy</th>\n",
       "      <th>supported_dbs</th>\n",
       "    </tr>\n",
       "  </thead>\n",
       "  <tbody>\n",
       "    <tr>\n",
       "      <th>0</th>\n",
       "      <td>10090</td>\n",
       "      <td>[Panther, HGNC, Ensembl, EggNOG, HomoloGene, PhylomeDB, Treefam, JAX, OMA, OrthoDB, NCBI, Inparanoid]</td>\n",
       "    </tr>\n",
       "    <tr>\n",
       "      <th>1</th>\n",
       "      <td>10116</td>\n",
       "      <td>[Panther, Ensembl, EggNOG, HomoloGene, PhylomeDB, Treefam, JAX, OMA, OrthoDB, NCBI, Inparanoid]</td>\n",
       "    </tr>\n",
       "  </tbody>\n",
       "</table>\n",
       "</div>"
      ],
      "text/plain": [
       "  taxonomy  \\\n",
       "0    10090   \n",
       "1    10116   \n",
       "\n",
       "                                                                                           supported_dbs  \n",
       "0  [Panther, HGNC, Ensembl, EggNOG, HomoloGene, PhylomeDB, Treefam, JAX, OMA, OrthoDB, NCBI, Inparanoid]  \n",
       "1        [Panther, Ensembl, EggNOG, HomoloGene, PhylomeDB, Treefam, JAX, OMA, OrthoDB, NCBI, Inparanoid]  "
      ]
     },
     "execution_count": 23,
     "metadata": {},
     "output_type": "execute_result"
    }
   ],
   "source": [
    "# List of supported ortholog_dbs that have a mapping to human ENTREZ IDs\n",
    "suggestions = ortholog_mapper.suggest_ortholog_dbs(mgenes, \"taxonomy\", \"identifier\")\n",
    "suggestions"
   ]
  },
  {
   "cell_type": "code",
   "execution_count": 24,
   "id": "c1979254-e430-47c6-991a-a8fddabab934",
   "metadata": {},
   "outputs": [],
   "source": [
    "mapped_genes = ortholog_mapper.map_orthologs(mgenes, \"taxonomy\", \"identifier\", \"human_entrez_id\", ortholog_dbs=[\"JAX\", \"Ensembl\"])\n",
    "# Remove any genes that cannot be mapped to human ENTREZ ids\n",
    "mapped_genes = mapped_genes[mapped_genes[\"human_entrez_id\"] != \"\"]"
   ]
  },
  {
   "cell_type": "markdown",
   "id": "74ec32b7-9372-48b2-8929-2f5c8fd5e1fc",
   "metadata": {},
   "source": [
    "## Create Human Ortholog Gene Nodes\n",
    "The mapped genes include non-protein coding genes"
   ]
  },
  {
   "cell_type": "code",
   "execution_count": 25,
   "id": "59ad5ef7-2c40-4f67-8607-1eccac579b69",
   "metadata": {},
   "outputs": [],
   "source": [
    "human_genes = mapped_genes[['human_entrez_id']].copy()\n",
    "human_genes.rename(columns={'human_entrez_id': 'identifier'}, inplace=True)"
   ]
  },
  {
   "cell_type": "code",
   "execution_count": 26,
   "id": "be099a16-6548-464e-826b-cd7b0d782149",
   "metadata": {},
   "outputs": [
    {
     "name": "stdout",
     "output_type": "stream",
     "text": [
      "Number of Gene nodes: 28291\n"
     ]
    },
    {
     "data": {
      "text/html": [
       "<div>\n",
       "<style scoped>\n",
       "    .dataframe tbody tr th:only-of-type {\n",
       "        vertical-align: middle;\n",
       "    }\n",
       "\n",
       "    .dataframe tbody tr th {\n",
       "        vertical-align: top;\n",
       "    }\n",
       "\n",
       "    .dataframe thead th {\n",
       "        text-align: right;\n",
       "    }\n",
       "</style>\n",
       "<table border=\"1\" class=\"dataframe\">\n",
       "  <thead>\n",
       "    <tr style=\"text-align: right;\">\n",
       "      <th></th>\n",
       "      <th>identifier</th>\n",
       "    </tr>\n",
       "  </thead>\n",
       "  <tbody>\n",
       "    <tr>\n",
       "      <th>0</th>\n",
       "      <td>1316</td>\n",
       "    </tr>\n",
       "    <tr>\n",
       "      <th>1</th>\n",
       "      <td>1737</td>\n",
       "    </tr>\n",
       "    <tr>\n",
       "      <th>2</th>\n",
       "      <td>894</td>\n",
       "    </tr>\n",
       "    <tr>\n",
       "      <th>3</th>\n",
       "      <td>4704</td>\n",
       "    </tr>\n",
       "    <tr>\n",
       "      <th>4</th>\n",
       "      <td>4059</td>\n",
       "    </tr>\n",
       "  </tbody>\n",
       "</table>\n",
       "</div>"
      ],
      "text/plain": [
       "  identifier\n",
       "0       1316\n",
       "1       1737\n",
       "2        894\n",
       "3       4704\n",
       "4       4059"
      ]
     },
     "execution_count": 26,
     "metadata": {},
     "output_type": "execute_result"
    }
   ],
   "source": [
    "human_gene_nodes = gl.save_dataframe_to_kg(human_genes, 'Gene', node_dir)\n",
    "print(f\"Number of Gene nodes: {human_gene_nodes.shape[0]}\")\n",
    "human_gene_nodes.head()"
   ]
  },
  {
   "cell_type": "markdown",
   "id": "0d7e6f05-6189-49df-8ca1-9e02e72ee61f",
   "metadata": {},
   "source": [
    "## Create MGene-IS_ORTHOLOG_MGiG-Gene Relationships"
   ]
  },
  {
   "cell_type": "code",
   "execution_count": 27,
   "id": "77aa65c9-8755-4e34-b542-9216373c000f",
   "metadata": {},
   "outputs": [],
   "source": [
    "model_to_human_genes = mapped_genes[[\"identifier\", \"human_entrez_id\"]].copy()\n",
    "model_to_human_genes.rename(columns={\"identifier\": \"from\", \"human_entrez_id\": \"to\"}, inplace=True)"
   ]
  },
  {
   "cell_type": "code",
   "execution_count": 28,
   "id": "d49a4499-9d69-4632-b5d9-789dae3f8d1c",
   "metadata": {},
   "outputs": [
    {
     "name": "stdout",
     "output_type": "stream",
     "text": [
      "Number of MGene-IS_ORTHOLOG_MGiG-Gene relationships: 56761\n"
     ]
    },
    {
     "data": {
      "text/html": [
       "<div>\n",
       "<style scoped>\n",
       "    .dataframe tbody tr th:only-of-type {\n",
       "        vertical-align: middle;\n",
       "    }\n",
       "\n",
       "    .dataframe tbody tr th {\n",
       "        vertical-align: top;\n",
       "    }\n",
       "\n",
       "    .dataframe thead th {\n",
       "        text-align: right;\n",
       "    }\n",
       "</style>\n",
       "<table border=\"1\" class=\"dataframe\">\n",
       "  <thead>\n",
       "    <tr style=\"text-align: right;\">\n",
       "      <th></th>\n",
       "      <th>from</th>\n",
       "      <th>to</th>\n",
       "    </tr>\n",
       "  </thead>\n",
       "  <tbody>\n",
       "    <tr>\n",
       "      <th>0</th>\n",
       "      <td>23849</td>\n",
       "      <td>1316</td>\n",
       "    </tr>\n",
       "    <tr>\n",
       "      <th>1</th>\n",
       "      <td>235339</td>\n",
       "      <td>1737</td>\n",
       "    </tr>\n",
       "    <tr>\n",
       "      <th>2</th>\n",
       "      <td>12444</td>\n",
       "      <td>894</td>\n",
       "    </tr>\n",
       "    <tr>\n",
       "      <th>3</th>\n",
       "      <td>66108</td>\n",
       "      <td>4704</td>\n",
       "    </tr>\n",
       "    <tr>\n",
       "      <th>4</th>\n",
       "      <td>57278</td>\n",
       "      <td>4059</td>\n",
       "    </tr>\n",
       "  </tbody>\n",
       "</table>\n",
       "</div>"
      ],
      "text/plain": [
       "     from    to\n",
       "0   23849  1316\n",
       "1  235339  1737\n",
       "2   12444   894\n",
       "3   66108  4704\n",
       "4   57278  4059"
      ]
     },
     "execution_count": 28,
     "metadata": {},
     "output_type": "execute_result"
    }
   ],
   "source": [
    "model_to_human_gene_rels = gl.save_dataframe_to_kg(model_to_human_genes, 'MGene-IS_ORTHOLOG_MGiG-Gene', rel_dir)\n",
    "print(f\"Number of MGene-IS_ORTHOLOG_MGiG-Gene relationships: {model_to_human_gene_rels.shape[0]}\")\n",
    "model_to_human_gene_rels.head()"
   ]
  }
 ],
 "metadata": {
  "kernelspec": {
   "display_name": "Python 3 (ipykernel)",
   "language": "python",
   "name": "python3"
  },
  "language_info": {
   "codemirror_mode": {
    "name": "ipython",
    "version": 3
   },
   "file_extension": ".py",
   "mimetype": "text/x-python",
   "name": "python",
   "nbconvert_exporter": "python",
   "pygments_lexer": "ipython3",
   "version": "3.10.17"
  }
 },
 "nbformat": 4,
 "nbformat_minor": 5
}
